{
 "cells": [
  {
   "cell_type": "code",
   "execution_count": 10,
   "id": "72557315",
   "metadata": {},
   "outputs": [
    {
     "name": "stdout",
     "output_type": "stream",
     "text": [
      "636\n"
     ]
    }
   ],
   "source": [
    "### producer code to transform and push data\n",
    "import re\n",
    "import json\n",
    "import pandas as pd\n",
    "import numpy as np\n",
    "from urllib.request import urlopen\n",
    "from bs4 import BeautifulSoup\n",
    "from datetime import date\n",
    "\n",
    "#html = urlopen(\"http://www.psudataeng.com:8000/getStopEvents\")\n",
    "with open('stopEvents_2022-05-15.html') as html:\n",
    "    soup = BeautifulSoup(html, 'lxml')\n",
    "\n",
    "all_h3s = soup.find_all('h3')\n",
    "\n",
    "all_ids = []\n",
    "for h3 in all_h3s:\n",
    "    match = re.search(r'\\d{9}', h3.string)\n",
    "    all_ids.append(match.group())\n",
    "\n",
    "trip_data = []\n",
    "all_tables = soup.find_all('table')\n",
    "for i in range(len(all_tables)):\n",
    "    t_td = all_tables[i].find_all('td')\n",
    "    data = {}\n",
    "    data[\"trip_id\"] = all_ids[i]\n",
    "    data[\"route_id\"] = t_td[3].string\n",
    "    data[\"vehicle_id\"] = t_td[0].string\n",
    "    data[\"service_key\"] = t_td[5].string\n",
    "    data[\"direction\"] = t_td[4].string\n",
    "    trip_data.append(data)\n",
    "\n",
    "print(len(trip_data))"
   ]
  },
  {
   "cell_type": "code",
   "execution_count": 11,
   "id": "59d4fc5b",
   "metadata": {},
   "outputs": [
    {
     "data": {
      "text/html": [
       "<div>\n",
       "<style scoped>\n",
       "    .dataframe tbody tr th:only-of-type {\n",
       "        vertical-align: middle;\n",
       "    }\n",
       "\n",
       "    .dataframe tbody tr th {\n",
       "        vertical-align: top;\n",
       "    }\n",
       "\n",
       "    .dataframe thead th {\n",
       "        text-align: right;\n",
       "    }\n",
       "</style>\n",
       "<table border=\"1\" class=\"dataframe\">\n",
       "  <thead>\n",
       "    <tr style=\"text-align: right;\">\n",
       "      <th></th>\n",
       "      <th>trip_id</th>\n",
       "      <th>route_id</th>\n",
       "      <th>vehicle_id</th>\n",
       "      <th>service_key</th>\n",
       "      <th>direction</th>\n",
       "    </tr>\n",
       "  </thead>\n",
       "  <tbody>\n",
       "    <tr>\n",
       "      <th>0</th>\n",
       "      <td>170612619</td>\n",
       "      <td>6</td>\n",
       "      <td>2270</td>\n",
       "      <td>U</td>\n",
       "      <td>0</td>\n",
       "    </tr>\n",
       "    <tr>\n",
       "      <th>1</th>\n",
       "      <td>170612634</td>\n",
       "      <td>6</td>\n",
       "      <td>2270</td>\n",
       "      <td>U</td>\n",
       "      <td>0</td>\n",
       "    </tr>\n",
       "    <tr>\n",
       "      <th>2</th>\n",
       "      <td>170612649</td>\n",
       "      <td>6</td>\n",
       "      <td>2270</td>\n",
       "      <td>U</td>\n",
       "      <td>1</td>\n",
       "    </tr>\n",
       "    <tr>\n",
       "      <th>3</th>\n",
       "      <td>170612662</td>\n",
       "      <td>6</td>\n",
       "      <td>2270</td>\n",
       "      <td>U</td>\n",
       "      <td>1</td>\n",
       "    </tr>\n",
       "    <tr>\n",
       "      <th>4</th>\n",
       "      <td>170612670</td>\n",
       "      <td>6</td>\n",
       "      <td>2270</td>\n",
       "      <td>U</td>\n",
       "      <td>0</td>\n",
       "    </tr>\n",
       "    <tr>\n",
       "      <th>...</th>\n",
       "      <td>...</td>\n",
       "      <td>...</td>\n",
       "      <td>...</td>\n",
       "      <td>...</td>\n",
       "      <td>...</td>\n",
       "    </tr>\n",
       "    <tr>\n",
       "      <th>631</th>\n",
       "      <td>170623254</td>\n",
       "      <td>50</td>\n",
       "      <td>6009</td>\n",
       "      <td>U</td>\n",
       "      <td>1</td>\n",
       "    </tr>\n",
       "    <tr>\n",
       "      <th>632</th>\n",
       "      <td>170623282</td>\n",
       "      <td>50</td>\n",
       "      <td>6010</td>\n",
       "      <td>U</td>\n",
       "      <td>None</td>\n",
       "    </tr>\n",
       "    <tr>\n",
       "      <th>633</th>\n",
       "      <td>170626155</td>\n",
       "      <td>60</td>\n",
       "      <td>4018</td>\n",
       "      <td>U</td>\n",
       "      <td>None</td>\n",
       "    </tr>\n",
       "    <tr>\n",
       "      <th>634</th>\n",
       "      <td>170628104</td>\n",
       "      <td>37</td>\n",
       "      <td>4032</td>\n",
       "      <td>U</td>\n",
       "      <td>None</td>\n",
       "    </tr>\n",
       "    <tr>\n",
       "      <th>635</th>\n",
       "      <td>170629208</td>\n",
       "      <td>37</td>\n",
       "      <td>4032</td>\n",
       "      <td>U</td>\n",
       "      <td>None</td>\n",
       "    </tr>\n",
       "  </tbody>\n",
       "</table>\n",
       "<p>636 rows × 5 columns</p>\n",
       "</div>"
      ],
      "text/plain": [
       "       trip_id route_id vehicle_id service_key direction\n",
       "0    170612619        6       2270           U         0\n",
       "1    170612634        6       2270           U         0\n",
       "2    170612649        6       2270           U         1\n",
       "3    170612662        6       2270           U         1\n",
       "4    170612670        6       2270           U         0\n",
       "..         ...      ...        ...         ...       ...\n",
       "631  170623254       50       6009           U         1\n",
       "632  170623282       50       6010           U      None\n",
       "633  170626155       60       4018           U      None\n",
       "634  170628104       37       4032           U      None\n",
       "635  170629208       37       4032           U      None\n",
       "\n",
       "[636 rows x 5 columns]"
      ]
     },
     "execution_count": 11,
     "metadata": {},
     "output_type": "execute_result"
    }
   ],
   "source": [
    "FILE_DATE = date.today().strftime(\"%Y-%m-%d\")\n",
    "FILE_NAME = f\"se-{FILE_DATE}.json\"\n",
    "\n",
    "with open(FILE_NAME, 'w') as file:\n",
    "    json.dump(trip_data, file)\n",
    "\n",
    "with open(FILE_NAME) as file:\n",
    "    data = json.load(file)\n",
    "    \n",
    "df = pd.DataFrame(data)\n",
    "df"
   ]
  },
  {
   "cell_type": "code",
   "execution_count": 12,
   "id": "dc4be9dc",
   "metadata": {},
   "outputs": [
    {
     "name": "stdout",
     "output_type": "stream",
     "text": [
      "PASSED All trip_ids are 9 digit integers\n"
     ]
    }
   ],
   "source": [
    "### consumer code to validate stop_events data\n",
    "assertion0 = \"All trip_ids are 9 digit integers\"\n",
    "df['trip_id'] = df['trip_id'].astype(int)\n",
    "assert df['trip_id'].between(100000000,999999999).all(), f\"FAILED {assertion0}\"\n",
    "print(f\"PASSED {assertion0}\")"
   ]
  },
  {
   "cell_type": "code",
   "execution_count": 13,
   "id": "97eb6bc9",
   "metadata": {},
   "outputs": [
    {
     "name": "stdout",
     "output_type": "stream",
     "text": [
      "PASSED All route_id are non-null, non-negative integers\n"
     ]
    }
   ],
   "source": [
    "assertion1 = \"All route_id are non-null, non-negative integers\"\n",
    "df['route_id'] = df['route_id'].astype(int)\n",
    "assert df['route_id'].all() >= 0, f\"FAILED {assertion1}\"\n",
    "print(f\"PASSED {assertion1}\")"
   ]
  },
  {
   "cell_type": "code",
   "execution_count": 14,
   "id": "906bc953",
   "metadata": {},
   "outputs": [
    {
     "name": "stdout",
     "output_type": "stream",
     "text": [
      "PASSED All vehicle_id are non-null, non-negative integers\n"
     ]
    }
   ],
   "source": [
    "assertion2 = \"All vehicle_id are non-null, non-negative integers\"\n",
    "df['vehicle_id'] = df['vehicle_id'].astype(int)\n",
    "assert df['vehicle_id'].all() >= 0, f\"FAILED {assertion2}\"\n",
    "print(f\"PASSED {assertion2}\")"
   ]
  },
  {
   "cell_type": "code",
   "execution_count": 15,
   "id": "c66162f4",
   "metadata": {},
   "outputs": [
    {
     "name": "stdout",
     "output_type": "stream",
     "text": [
      "PASSED All service_key fields are filled with values of either W, S, or U\n"
     ]
    }
   ],
   "source": [
    "assertion3 = \"All service_key fields are filled with values of either W, S, or U\"\n",
    "allowed = ['W', 'S', 'U']\n",
    "assert df['service_key'].apply(lambda x: True if x in allowed else False).all(), f\"FAILED {assertion3}\"\n",
    "print(f\"PASSED {assertion3}\")"
   ]
  },
  {
   "cell_type": "code",
   "execution_count": 16,
   "id": "faacd709",
   "metadata": {},
   "outputs": [
    {
     "name": "stdout",
     "output_type": "stream",
     "text": [
      "PASSED All directions are either 0 or 1\n"
     ]
    }
   ],
   "source": [
    "assertion4 = \"All directions are either 0 or 1\"\n",
    "allowed = ['0', '1']\n",
    "df.dropna(inplace=True)\n",
    "assert df['direction'].apply(lambda x: True if x in allowed else False).all(), f\"FAILED {assertion4}\"\n",
    "print(f\"PASSED {assertion4}\")"
   ]
  },
  {
   "cell_type": "code",
   "execution_count": 17,
   "id": "07bbaf00",
   "metadata": {},
   "outputs": [
    {
     "data": {
      "text/html": [
       "<div>\n",
       "<style scoped>\n",
       "    .dataframe tbody tr th:only-of-type {\n",
       "        vertical-align: middle;\n",
       "    }\n",
       "\n",
       "    .dataframe tbody tr th {\n",
       "        vertical-align: top;\n",
       "    }\n",
       "\n",
       "    .dataframe thead th {\n",
       "        text-align: right;\n",
       "    }\n",
       "</style>\n",
       "<table border=\"1\" class=\"dataframe\">\n",
       "  <thead>\n",
       "    <tr style=\"text-align: right;\">\n",
       "      <th></th>\n",
       "      <th>trip_id</th>\n",
       "      <th>route_id</th>\n",
       "      <th>vehicle_id</th>\n",
       "      <th>service_key</th>\n",
       "      <th>direction</th>\n",
       "    </tr>\n",
       "  </thead>\n",
       "  <tbody>\n",
       "    <tr>\n",
       "      <th>0</th>\n",
       "      <td>170612619</td>\n",
       "      <td>6</td>\n",
       "      <td>2270</td>\n",
       "      <td>Sunday</td>\n",
       "      <td>Out</td>\n",
       "    </tr>\n",
       "    <tr>\n",
       "      <th>1</th>\n",
       "      <td>170612634</td>\n",
       "      <td>6</td>\n",
       "      <td>2270</td>\n",
       "      <td>Sunday</td>\n",
       "      <td>Out</td>\n",
       "    </tr>\n",
       "    <tr>\n",
       "      <th>2</th>\n",
       "      <td>170612649</td>\n",
       "      <td>6</td>\n",
       "      <td>2270</td>\n",
       "      <td>Sunday</td>\n",
       "      <td>Back</td>\n",
       "    </tr>\n",
       "    <tr>\n",
       "      <th>3</th>\n",
       "      <td>170612662</td>\n",
       "      <td>6</td>\n",
       "      <td>2270</td>\n",
       "      <td>Sunday</td>\n",
       "      <td>Back</td>\n",
       "    </tr>\n",
       "    <tr>\n",
       "      <th>4</th>\n",
       "      <td>170612670</td>\n",
       "      <td>6</td>\n",
       "      <td>2270</td>\n",
       "      <td>Sunday</td>\n",
       "      <td>Out</td>\n",
       "    </tr>\n",
       "    <tr>\n",
       "      <th>...</th>\n",
       "      <td>...</td>\n",
       "      <td>...</td>\n",
       "      <td>...</td>\n",
       "      <td>...</td>\n",
       "      <td>...</td>\n",
       "    </tr>\n",
       "    <tr>\n",
       "      <th>613</th>\n",
       "      <td>170616552</td>\n",
       "      <td>60</td>\n",
       "      <td>4007</td>\n",
       "      <td>Sunday</td>\n",
       "      <td>Out</td>\n",
       "    </tr>\n",
       "    <tr>\n",
       "      <th>617</th>\n",
       "      <td>170616613</td>\n",
       "      <td>60</td>\n",
       "      <td>4007</td>\n",
       "      <td>Sunday</td>\n",
       "      <td>Out</td>\n",
       "    </tr>\n",
       "    <tr>\n",
       "      <th>620</th>\n",
       "      <td>170621558</td>\n",
       "      <td>60</td>\n",
       "      <td>4038</td>\n",
       "      <td>Sunday</td>\n",
       "      <td>Out</td>\n",
       "    </tr>\n",
       "    <tr>\n",
       "      <th>621</th>\n",
       "      <td>170621802</td>\n",
       "      <td>60</td>\n",
       "      <td>4038</td>\n",
       "      <td>Sunday</td>\n",
       "      <td>Back</td>\n",
       "    </tr>\n",
       "    <tr>\n",
       "      <th>631</th>\n",
       "      <td>170623254</td>\n",
       "      <td>50</td>\n",
       "      <td>6009</td>\n",
       "      <td>Sunday</td>\n",
       "      <td>Back</td>\n",
       "    </tr>\n",
       "  </tbody>\n",
       "</table>\n",
       "<p>593 rows × 5 columns</p>\n",
       "</div>"
      ],
      "text/plain": [
       "       trip_id  route_id  vehicle_id service_key direction\n",
       "0    170612619         6        2270      Sunday       Out\n",
       "1    170612634         6        2270      Sunday       Out\n",
       "2    170612649         6        2270      Sunday      Back\n",
       "3    170612662         6        2270      Sunday      Back\n",
       "4    170612670         6        2270      Sunday       Out\n",
       "..         ...       ...         ...         ...       ...\n",
       "613  170616552        60        4007      Sunday       Out\n",
       "617  170616613        60        4007      Sunday       Out\n",
       "620  170621558        60        4038      Sunday       Out\n",
       "621  170621802        60        4038      Sunday      Back\n",
       "631  170623254        50        6009      Sunday      Back\n",
       "\n",
       "[593 rows x 5 columns]"
      ]
     },
     "execution_count": 17,
     "metadata": {},
     "output_type": "execute_result"
    }
   ],
   "source": [
    "### consumer code to transform stop_events data\n",
    "df['service_key'] = df['service_key'].apply(lambda x: 'Weekday' if x == 'W' else ('Saturday' if x == 'S' else ('Sunday' if x == 'U' else None)))\n",
    "df['direction'] = df['direction'].apply(lambda x: 'Out' if x == '0' else ('Back' if x == '1' else None))\n",
    "df"
   ]
  },
  {
   "cell_type": "code",
   "execution_count": 20,
   "id": "6b79ecac",
   "metadata": {},
   "outputs": [
    {
     "name": "stdout",
     "output_type": "stream",
     "text": [
      "2022-05-15\n"
     ]
    }
   ],
   "source": [
    "i = 'stop_events/stopEvents_2022-05-15.html'\n",
    "imatch = re.search(r'\\d\\d\\d\\d-\\d\\d-\\d\\d', i).group()\n",
    "#idate = imatch.group()\n",
    "print(imatch)"
   ]
  },
  {
   "cell_type": "code",
   "execution_count": null,
   "id": "c8588db6",
   "metadata": {},
   "outputs": [],
   "source": []
  }
 ],
 "metadata": {
  "kernelspec": {
   "display_name": "Python 3 (ipykernel)",
   "language": "python",
   "name": "python3"
  },
  "language_info": {
   "codemirror_mode": {
    "name": "ipython",
    "version": 3
   },
   "file_extension": ".py",
   "mimetype": "text/x-python",
   "name": "python",
   "nbconvert_exporter": "python",
   "pygments_lexer": "ipython3",
   "version": "3.9.7"
  }
 },
 "nbformat": 4,
 "nbformat_minor": 5
}
